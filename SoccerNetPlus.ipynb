{
  "nbformat": 4,
  "nbformat_minor": 0,
  "metadata": {
    "colab": {
      "provenance": []
    },
    "kernelspec": {
      "name": "python3",
      "display_name": "Python 3"
    },
    "language_info": {
      "name": "python"
    },
    "gpuClass": "standard"
  },
  "cells": [
    {
      "cell_type": "markdown",
      "source": [
        "# SoccerNetPlus\n",
        "by AiJing Wu, Michael Vanden Heuvel"
      ],
      "metadata": {
        "id": "shRNOY2ZEB3V"
      }
    },
    {
      "cell_type": "markdown",
      "source": [
        "### Environment settings:\n",
        "1. Create a directory/folder named \"SoccerNetPlus\" and put everything in it\n",
        "2. Runtime -> Change runtime type -> GPU\n",
        "3. Mount the drive to colab (with the next code snippet)"
      ],
      "metadata": {
        "id": "ppdpJ8g8KRL4"
      }
    },
    {
      "cell_type": "code",
      "source": [
        "# interact with drive files\n",
        "from google.colab import drive\n",
        "drive.mount('/content/gdrive')"
      ],
      "metadata": {
        "id": "rHCyGHbFKUWt",
        "colab": {
          "base_uri": "https://localhost:8080/"
        },
        "outputId": "4027874e-146a-491c-c5bd-0881425dd1c3"
      },
      "execution_count": null,
      "outputs": [
        {
          "output_type": "stream",
          "name": "stdout",
          "text": [
            "Drive already mounted at /content/gdrive; to attempt to forcibly remount, call drive.mount(\"/content/gdrive\", force_remount=True).\n"
          ]
        }
      ]
    },
    {
      "cell_type": "code",
      "source": [
        "# Important variables\n",
        "max_allowed_video_length = 10\n",
        "parent_dir = '/content/gdrive/My Drive/SoccerNetPlus/'"
      ],
      "metadata": {
        "id": "cp8dMKrAiV0W"
      },
      "execution_count": null,
      "outputs": []
    },
    {
      "cell_type": "markdown",
      "source": [
        "### Imports"
      ],
      "metadata": {
        "id": "2HdVHVYWHFDd"
      }
    },
    {
      "cell_type": "code",
      "source": [
        "# download all dependencies\n",
        "%cd $parent_dir\n",
        "!pip install -r dependency-requirements.txt"
      ],
      "metadata": {
        "id": "i7z8mOQ3NnV9",
        "colab": {
          "base_uri": "https://localhost:8080/",
          "height": 1000
        },
        "outputId": "98188965-7636-4f35-dd0c-a84b87dbd3c8"
      },
      "execution_count": null,
      "outputs": [
        {
          "output_type": "stream",
          "name": "stdout",
          "text": [
            "Looking in indexes: https://pypi.org/simple, https://us-python.pkg.dev/colab-wheels/public/simple/\n",
            "Requirement already satisfied: tensorflow-gpu==2.4.2 in /usr/local/lib/python3.7/dist-packages (from -r dependency-requirements.txt (line 1)) (2.4.2)\n",
            "Requirement already satisfied: numpy in /usr/local/lib/python3.7/dist-packages (from -r dependency-requirements.txt (line 2)) (1.19.5)\n",
            "Requirement already satisfied: opencv-python==4.1.1.26 in /usr/local/lib/python3.7/dist-packages (from -r dependency-requirements.txt (line 3)) (4.1.1.26)\n",
            "Requirement already satisfied: lxml in /usr/local/lib/python3.7/dist-packages (from -r dependency-requirements.txt (line 4)) (4.9.1)\n",
            "Requirement already satisfied: tqdm in /usr/local/lib/python3.7/dist-packages (from -r dependency-requirements.txt (line 5)) (4.64.1)\n",
            "Requirement already satisfied: seaborn in /usr/local/lib/python3.7/dist-packages (from -r dependency-requirements.txt (line 6)) (0.11.2)\n",
            "Requirement already satisfied: pillow in /usr/local/lib/python3.7/dist-packages (from -r dependency-requirements.txt (line 7)) (7.1.2)\n",
            "Requirement already satisfied: anvil-uplink in /usr/local/lib/python3.7/dist-packages (from -r dependency-requirements.txt (line 8)) (0.4.1)\n",
            "Requirement already satisfied: youtube-dl in /usr/local/lib/python3.7/dist-packages (from -r dependency-requirements.txt (line 9)) (2021.12.17)\n",
            "Requirement already satisfied: absl-py~=0.10 in /usr/local/lib/python3.7/dist-packages (from tensorflow-gpu==2.4.2->-r dependency-requirements.txt (line 1)) (0.15.0)\n",
            "Requirement already satisfied: six~=1.15.0 in /usr/local/lib/python3.7/dist-packages (from tensorflow-gpu==2.4.2->-r dependency-requirements.txt (line 1)) (1.15.0)\n",
            "Requirement already satisfied: wrapt~=1.12.1 in /usr/local/lib/python3.7/dist-packages (from tensorflow-gpu==2.4.2->-r dependency-requirements.txt (line 1)) (1.12.1)\n",
            "Requirement already satisfied: gast==0.3.3 in /usr/local/lib/python3.7/dist-packages (from tensorflow-gpu==2.4.2->-r dependency-requirements.txt (line 1)) (0.3.3)\n",
            "Requirement already satisfied: h5py~=2.10.0 in /usr/local/lib/python3.7/dist-packages (from tensorflow-gpu==2.4.2->-r dependency-requirements.txt (line 1)) (2.10.0)\n",
            "Requirement already satisfied: protobuf>=3.9.2 in /usr/local/lib/python3.7/dist-packages (from tensorflow-gpu==2.4.2->-r dependency-requirements.txt (line 1)) (3.19.6)\n",
            "Requirement already satisfied: google-pasta~=0.2 in /usr/local/lib/python3.7/dist-packages (from tensorflow-gpu==2.4.2->-r dependency-requirements.txt (line 1)) (0.2.0)\n",
            "Requirement already satisfied: typing-extensions~=3.7.4 in /usr/local/lib/python3.7/dist-packages (from tensorflow-gpu==2.4.2->-r dependency-requirements.txt (line 1)) (3.7.4.3)\n",
            "Requirement already satisfied: wheel~=0.35 in /usr/local/lib/python3.7/dist-packages (from tensorflow-gpu==2.4.2->-r dependency-requirements.txt (line 1)) (0.38.4)\n",
            "Requirement already satisfied: tensorboard~=2.4 in /usr/local/lib/python3.7/dist-packages (from tensorflow-gpu==2.4.2->-r dependency-requirements.txt (line 1)) (2.9.1)\n",
            "Requirement already satisfied: tensorflow-estimator<2.5.0,>=2.4.0 in /usr/local/lib/python3.7/dist-packages (from tensorflow-gpu==2.4.2->-r dependency-requirements.txt (line 1)) (2.4.0)\n",
            "Requirement already satisfied: flatbuffers~=1.12.0 in /usr/local/lib/python3.7/dist-packages (from tensorflow-gpu==2.4.2->-r dependency-requirements.txt (line 1)) (1.12)\n",
            "Requirement already satisfied: opt-einsum~=3.3.0 in /usr/local/lib/python3.7/dist-packages (from tensorflow-gpu==2.4.2->-r dependency-requirements.txt (line 1)) (3.3.0)\n",
            "Requirement already satisfied: termcolor~=1.1.0 in /usr/local/lib/python3.7/dist-packages (from tensorflow-gpu==2.4.2->-r dependency-requirements.txt (line 1)) (1.1.0)\n",
            "Requirement already satisfied: keras-preprocessing~=1.1.2 in /usr/local/lib/python3.7/dist-packages (from tensorflow-gpu==2.4.2->-r dependency-requirements.txt (line 1)) (1.1.2)\n",
            "Requirement already satisfied: grpcio~=1.32.0 in /usr/local/lib/python3.7/dist-packages (from tensorflow-gpu==2.4.2->-r dependency-requirements.txt (line 1)) (1.32.0)\n",
            "Requirement already satisfied: astunparse~=1.6.3 in /usr/local/lib/python3.7/dist-packages (from tensorflow-gpu==2.4.2->-r dependency-requirements.txt (line 1)) (1.6.3)\n",
            "Requirement already satisfied: markdown>=2.6.8 in /usr/local/lib/python3.7/dist-packages (from tensorboard~=2.4->tensorflow-gpu==2.4.2->-r dependency-requirements.txt (line 1)) (3.4.1)\n",
            "Requirement already satisfied: requests<3,>=2.21.0 in /usr/local/lib/python3.7/dist-packages (from tensorboard~=2.4->tensorflow-gpu==2.4.2->-r dependency-requirements.txt (line 1)) (2.23.0)\n",
            "Requirement already satisfied: tensorboard-data-server<0.7.0,>=0.6.0 in /usr/local/lib/python3.7/dist-packages (from tensorboard~=2.4->tensorflow-gpu==2.4.2->-r dependency-requirements.txt (line 1)) (0.6.1)\n",
            "Requirement already satisfied: google-auth-oauthlib<0.5,>=0.4.1 in /usr/local/lib/python3.7/dist-packages (from tensorboard~=2.4->tensorflow-gpu==2.4.2->-r dependency-requirements.txt (line 1)) (0.4.6)\n",
            "Requirement already satisfied: werkzeug>=1.0.1 in /usr/local/lib/python3.7/dist-packages (from tensorboard~=2.4->tensorflow-gpu==2.4.2->-r dependency-requirements.txt (line 1)) (1.0.1)\n",
            "Requirement already satisfied: setuptools>=41.0.0 in /usr/local/lib/python3.7/dist-packages (from tensorboard~=2.4->tensorflow-gpu==2.4.2->-r dependency-requirements.txt (line 1)) (57.4.0)\n",
            "Requirement already satisfied: google-auth<3,>=1.6.3 in /usr/local/lib/python3.7/dist-packages (from tensorboard~=2.4->tensorflow-gpu==2.4.2->-r dependency-requirements.txt (line 1)) (2.14.1)\n",
            "Requirement already satisfied: tensorboard-plugin-wit>=1.6.0 in /usr/local/lib/python3.7/dist-packages (from tensorboard~=2.4->tensorflow-gpu==2.4.2->-r dependency-requirements.txt (line 1)) (1.8.1)\n",
            "Requirement already satisfied: cachetools<6.0,>=2.0.0 in /usr/local/lib/python3.7/dist-packages (from google-auth<3,>=1.6.3->tensorboard~=2.4->tensorflow-gpu==2.4.2->-r dependency-requirements.txt (line 1)) (5.2.0)\n",
            "Requirement already satisfied: pyasn1-modules>=0.2.1 in /usr/local/lib/python3.7/dist-packages (from google-auth<3,>=1.6.3->tensorboard~=2.4->tensorflow-gpu==2.4.2->-r dependency-requirements.txt (line 1)) (0.2.8)\n",
            "Requirement already satisfied: rsa<5,>=3.1.4 in /usr/local/lib/python3.7/dist-packages (from google-auth<3,>=1.6.3->tensorboard~=2.4->tensorflow-gpu==2.4.2->-r dependency-requirements.txt (line 1)) (4.9)\n",
            "Requirement already satisfied: requests-oauthlib>=0.7.0 in /usr/local/lib/python3.7/dist-packages (from google-auth-oauthlib<0.5,>=0.4.1->tensorboard~=2.4->tensorflow-gpu==2.4.2->-r dependency-requirements.txt (line 1)) (1.3.1)\n",
            "Requirement already satisfied: importlib-metadata>=4.4 in /usr/local/lib/python3.7/dist-packages (from markdown>=2.6.8->tensorboard~=2.4->tensorflow-gpu==2.4.2->-r dependency-requirements.txt (line 1)) (4.13.0)\n",
            "Requirement already satisfied: zipp>=0.5 in /usr/local/lib/python3.7/dist-packages (from importlib-metadata>=4.4->markdown>=2.6.8->tensorboard~=2.4->tensorflow-gpu==2.4.2->-r dependency-requirements.txt (line 1)) (3.10.0)\n",
            "Requirement already satisfied: pyasn1<0.5.0,>=0.4.6 in /usr/local/lib/python3.7/dist-packages (from pyasn1-modules>=0.2.1->google-auth<3,>=1.6.3->tensorboard~=2.4->tensorflow-gpu==2.4.2->-r dependency-requirements.txt (line 1)) (0.4.8)\n",
            "Requirement already satisfied: urllib3!=1.25.0,!=1.25.1,<1.26,>=1.21.1 in /usr/local/lib/python3.7/dist-packages (from requests<3,>=2.21.0->tensorboard~=2.4->tensorflow-gpu==2.4.2->-r dependency-requirements.txt (line 1)) (1.24.3)\n",
            "Requirement already satisfied: idna<3,>=2.5 in /usr/local/lib/python3.7/dist-packages (from requests<3,>=2.21.0->tensorboard~=2.4->tensorflow-gpu==2.4.2->-r dependency-requirements.txt (line 1)) (2.10)\n",
            "Requirement already satisfied: chardet<4,>=3.0.2 in /usr/local/lib/python3.7/dist-packages (from requests<3,>=2.21.0->tensorboard~=2.4->tensorflow-gpu==2.4.2->-r dependency-requirements.txt (line 1)) (3.0.4)\n",
            "Requirement already satisfied: certifi>=2017.4.17 in /usr/local/lib/python3.7/dist-packages (from requests<3,>=2.21.0->tensorboard~=2.4->tensorflow-gpu==2.4.2->-r dependency-requirements.txt (line 1)) (2022.9.24)\n",
            "Requirement already satisfied: oauthlib>=3.0.0 in /usr/local/lib/python3.7/dist-packages (from requests-oauthlib>=0.7.0->google-auth-oauthlib<0.5,>=0.4.1->tensorboard~=2.4->tensorflow-gpu==2.4.2->-r dependency-requirements.txt (line 1)) (3.2.2)\n",
            "Requirement already satisfied: matplotlib>=2.2 in /usr/local/lib/python3.7/dist-packages (from seaborn->-r dependency-requirements.txt (line 6)) (3.2.2)\n",
            "Requirement already satisfied: pandas>=0.23 in /usr/local/lib/python3.7/dist-packages (from seaborn->-r dependency-requirements.txt (line 6)) (1.3.5)\n",
            "Requirement already satisfied: scipy>=1.0 in /usr/local/lib/python3.7/dist-packages (from seaborn->-r dependency-requirements.txt (line 6)) (1.7.3)\n",
            "Requirement already satisfied: cycler>=0.10 in /usr/local/lib/python3.7/dist-packages (from matplotlib>=2.2->seaborn->-r dependency-requirements.txt (line 6)) (0.11.0)\n",
            "Requirement already satisfied: kiwisolver>=1.0.1 in /usr/local/lib/python3.7/dist-packages (from matplotlib>=2.2->seaborn->-r dependency-requirements.txt (line 6)) (1.4.4)\n",
            "Requirement already satisfied: pyparsing!=2.0.4,!=2.1.2,!=2.1.6,>=2.0.1 in /usr/local/lib/python3.7/dist-packages (from matplotlib>=2.2->seaborn->-r dependency-requirements.txt (line 6)) (3.0.9)\n",
            "Requirement already satisfied: python-dateutil>=2.1 in /usr/local/lib/python3.7/dist-packages (from matplotlib>=2.2->seaborn->-r dependency-requirements.txt (line 6)) (2.8.2)\n",
            "Requirement already satisfied: pytz>=2017.3 in /usr/local/lib/python3.7/dist-packages (from pandas>=0.23->seaborn->-r dependency-requirements.txt (line 6)) (2022.6)\n",
            "Requirement already satisfied: ws4py in /usr/local/lib/python3.7/dist-packages (from anvil-uplink->-r dependency-requirements.txt (line 8)) (0.5.1)\n",
            "Requirement already satisfied: future in /usr/local/lib/python3.7/dist-packages (from anvil-uplink->-r dependency-requirements.txt (line 8)) (0.16.0)\n",
            "Collecting argparse\n",
            "  Using cached argparse-1.4.0-py2.py3-none-any.whl (23 kB)\n",
            "Installing collected packages: argparse\n",
            "Successfully installed argparse-1.4.0\n"
          ]
        },
        {
          "output_type": "display_data",
          "data": {
            "application/vnd.colab-display-data+json": {
              "pip_warning": {
                "packages": [
                  "argparse"
                ]
              }
            }
          },
          "metadata": {}
        }
      ]
    },
    {
      "cell_type": "code",
      "source": [
        "# import all libraries\n",
        "from IPython.display import YouTubeVideo, display\n",
        "import requests\n",
        "import os, subprocess\n",
        "import cv2"
      ],
      "metadata": {
        "id": "Nh6b5Vc7KYJp"
      },
      "execution_count": null,
      "outputs": []
    },
    {
      "cell_type": "markdown",
      "source": [
        "### Anvil Setup"
      ],
      "metadata": {
        "id": "Fx9pMFlcFrG8"
      }
    },
    {
      "cell_type": "code",
      "source": [
        "# link with Anvil frontend\n",
        "import anvil.server\n",
        "anvil.server.connect(\"PNLBOIT4UOOXR5MDHAOGGJI7-KSSN3T627CDJ22BL\")"
      ],
      "metadata": {
        "id": "oXZVtfADFthN"
      },
      "execution_count": null,
      "outputs": []
    },
    {
      "cell_type": "markdown",
      "source": [
        "### User Inputs\n",
        "get input video from YouTube, and put it in SoccerNetPlus/video_input\n",
        "1. YouTube id (do an interface like \"https://www.youtube.com/watch?v=\"______________)\n",
        "2. start time (eg. 03:20 - minute:second)\n",
        "3. end time (eg. 05:40 - minute:second)\n",
        "4. video field corners' coordinates"
      ],
      "metadata": {
        "id": "YD05NT0aD5iP"
      }
    },
    {
      "cell_type": "code",
      "source": [
        "# Source: https://stackoverflow.com/questions/63325908/how-do-i-check-if-a-youtube-video-url-is-valid-or-not-in-python\n",
        "def check_video_url(video_id):\n",
        "    checker_url = \"https://www.youtube.com/oembed?url=http://www.youtube.com/watch?v=\"\n",
        "    video_url = checker_url + video_id\n",
        "\n",
        "    request = requests.get(video_url)\n",
        "\n",
        "    return request.status_code == 200\n",
        "check_video_url(\"SB-qEYVdvXA\")"
      ],
      "metadata": {
        "id": "s7N6_hZkiNZc"
      },
      "execution_count": null,
      "outputs": []
    },
    {
      "cell_type": "code",
      "source": [
        "# get the video source and download the video\n",
        "def download_youtube():\n",
        "    youtube_id = \"ta-M_RIHyFA\"\n",
        "    youtube_link = \"https://www.youtube.com/watch?v=\" + youtube_id\n",
        "    display(YouTubeVideo(youtube_id))\n",
        "    !youtube-dl $youtube_link -f 22 -o video_input/video.mp4"
      ],
      "metadata": {
        "id": "FEVnP3JzSEFP"
      },
      "execution_count": null,
      "outputs": []
    },
    {
      "cell_type": "code",
      "source": [
        "from __future__ import unicode_literals\n",
        "import youtube_dl\n",
        "\n",
        "ydl_opts = {'opts'}\n",
        "with youtube_dl.YoutubeDL(ydl_opts) as ydl:\n",
        "    ydl.download(['https://www.youtube.com/watch?v=BaW_jenozKc'])"
      ],
      "metadata": {
        "id": "-3B3dZ_dj9Ov"
      },
      "execution_count": null,
      "outputs": []
    },
    {
      "cell_type": "markdown",
      "source": [
        "### Detection and 2D Birdeye Transform\n",
        "with Yolov3 & OpenCV, all running in SoccerNetPlus/yolov3_opencv"
      ],
      "metadata": {
        "id": "U23FXkq70JRL"
      }
    },
    {
      "cell_type": "code",
      "source": [
        "def detection_transformation():\n",
        "    os.chdir(os.path.join(parent_dir, \"yolov3_opencv\"))\n",
        "    # Command: birdeye_view.py path-to-input-video path-to-output-video-detection-part path-to-output-video-birdeye-part\n",
        "    subprocess.call(\"python birdeye_view.py ../video_input/test-video.mp4 ../video_output/detection.mp4 ../video_output/birdeye.mp4\")\n",
        "    os.chdir(parent_dir)"
      ],
      "metadata": {
        "id": "E7xQw04P0eck"
      },
      "execution_count": null,
      "outputs": []
    },
    {
      "cell_type": "markdown",
      "source": [
        "### Tracking and Statistics Display\n",
        "with Yolov3 & DeepSort, all running in SoccerNetPlus/yolov3_deepsort"
      ],
      "metadata": {
        "id": "ebH4L1lb0fBm"
      }
    },
    {
      "cell_type": "code",
      "source": [
        "def tracking_statistics():\n",
        "    os.chdir(os.path.join(parent_dir, \"yolov3_deepsort\"))\n",
        "    subprocess.call(\"python load_weights.py\", shell=True)\n",
        "    # Command: object_tracker.py --video path-to-input-video --output path-to-output-video\n",
        "    subprocess.call(\"python object_tracker.py --video ../video_input/test-video.mp4 --output ../video_output/tracking.mp4\", shell=True)\n",
        "    os.chdir(parent_dir)"
      ],
      "metadata": {
        "id": "ijWAmdMz0j4y"
      },
      "execution_count": null,
      "outputs": []
    },
    {
      "cell_type": "markdown",
      "source": [
        "## UI Code"
      ],
      "metadata": {
        "id": "Oa0SPvAVYHeB"
      }
    },
    {
      "cell_type": "code",
      "source": [
        "@anvil.server.callable\n",
        "def populate_example_video_dropdown(clip_duration=10):\n",
        "  global video_input\n",
        "  video_input = {}\n",
        "  dir = os.path.join(parent_dir, \"video_input\")\n",
        "  videos = [x for x in os.listdir(dir) if x.endswith(\".mp4\")]\n",
        "  video_durations = []\n",
        "  for video in videos:\n",
        "    video = os.path.join(dir,video)\n",
        "    vidcapture = cv2.VideoCapture(video)\n",
        "    fps = vidcapture.get(cv2.CAP_PROP_FPS)\n",
        "    totalNoFrames = vidcapture.get(cv2.CAP_PROP_FRAME_COUNT)\n",
        "    video_durations.append(int(totalNoFrames / fps))\n",
        "\n",
        "  for i, v in enumerate(zip(videos,video_durations)):\n",
        "    video, duration = v\n",
        "    # print(f\"Duration: {duration}\")\n",
        "    # print(range(0,clip_duration,duration))\n",
        "    # print(list(range(0,clip_duration,duration)))\n",
        "    for j,s in enumerate(range(0,duration,clip_duration)):\n",
        "      # print(f\"Clip {((i+1)*(j+1))}, dur: {duration}\")\n",
        "      video_input[f\"Clip {((i+1)*(j+1))}\"] = {\"path\": os.path.join(dir, video), \"start\":s}\n",
        "  return list(video_input.keys())\n",
        "  \n",
        "populate_example_video_dropdown()\n",
        "# video_input"
      ],
      "metadata": {
        "id": "_FnRXaCvYHjy",
        "colab": {
          "base_uri": "https://localhost:8080/"
        },
        "outputId": "0e5473c7-3a5b-4199-d565-7de151704fd8"
      },
      "execution_count": null,
      "outputs": [
        {
          "output_type": "execute_result",
          "data": {
            "text/plain": [
              "['Clip 1',\n",
              " 'Clip 2',\n",
              " 'Clip 3',\n",
              " 'Clip 4',\n",
              " 'Clip 5',\n",
              " 'Clip 6',\n",
              " 'Clip 7',\n",
              " 'Clip 8',\n",
              " 'Clip 9',\n",
              " 'Clip 10',\n",
              " 'Clip 11',\n",
              " 'Clip 12']"
            ]
          },
          "metadata": {},
          "execution_count": 72
        }
      ]
    },
    {
      "cell_type": "code",
      "source": [
        "anvil.server.wait_forever()"
      ],
      "metadata": {
        "colab": {
          "base_uri": "https://localhost:8080/",
          "height": 265
        },
        "id": "mrqHwfeUyC4z",
        "outputId": "df9673bd-8e1e-4ba3-eb48-9d4244f6f2d4"
      },
      "execution_count": null,
      "outputs": [
        {
          "output_type": "error",
          "ename": "KeyboardInterrupt",
          "evalue": "ignored",
          "traceback": [
            "\u001b[0;31m---------------------------------------------------------------------------\u001b[0m",
            "\u001b[0;31mKeyboardInterrupt\u001b[0m                         Traceback (most recent call last)",
            "\u001b[0;32m<ipython-input-69-95cac3476493>\u001b[0m in \u001b[0;36m<module>\u001b[0;34m\u001b[0m\n\u001b[0;32m----> 1\u001b[0;31m \u001b[0manvil\u001b[0m\u001b[0;34m.\u001b[0m\u001b[0mserver\u001b[0m\u001b[0;34m.\u001b[0m\u001b[0mwait_forever\u001b[0m\u001b[0;34m(\u001b[0m\u001b[0;34m)\u001b[0m\u001b[0;34m\u001b[0m\u001b[0;34m\u001b[0m\u001b[0m\n\u001b[0m",
            "\u001b[0;32m/usr/local/lib/python3.7/dist-packages/anvil/server.py\u001b[0m in \u001b[0;36mwait_forever\u001b[0;34m()\u001b[0m\n\u001b[1;32m    432\u001b[0m     \u001b[0m_get_connection\u001b[0m\u001b[0;34m(\u001b[0m\u001b[0;34m)\u001b[0m\u001b[0;34m\u001b[0m\u001b[0;34m\u001b[0m\u001b[0m\n\u001b[1;32m    433\u001b[0m     \u001b[0;32mwhile\u001b[0m \u001b[0;32mTrue\u001b[0m\u001b[0;34m:\u001b[0m\u001b[0;34m\u001b[0m\u001b[0;34m\u001b[0m\u001b[0m\n\u001b[0;32m--> 434\u001b[0;31m         \u001b[0mtime\u001b[0m\u001b[0;34m.\u001b[0m\u001b[0msleep\u001b[0m\u001b[0;34m(\u001b[0m\u001b[0;36m1\u001b[0m\u001b[0;34m)\u001b[0m\u001b[0;34m\u001b[0m\u001b[0;34m\u001b[0m\u001b[0m\n\u001b[0m",
            "\u001b[0;31mKeyboardInterrupt\u001b[0m: "
          ]
        }
      ]
    },
    {
      "cell_type": "code",
      "source": [
        "# list(range(0,120, 10))"
      ],
      "metadata": {
        "colab": {
          "base_uri": "https://localhost:8080/"
        },
        "id": "TQKOM9wx0uOY",
        "outputId": "659de954-0693-483a-9076-0bc4e227abbd"
      },
      "execution_count": null,
      "outputs": [
        {
          "output_type": "execute_result",
          "data": {
            "text/plain": [
              "[0, 10, 20, 30, 40, 50, 60, 70, 80, 90, 100, 110]"
            ]
          },
          "metadata": {},
          "execution_count": 55
        }
      ]
    },
    {
      "cell_type": "code",
      "source": [
        "@anvil.server.callable\n",
        "def run_soccernet_button():\n",
        "  pass\n",
        "  # if youtube video entered:\n",
        "    # if valid yt video\n",
        "      # download youtube video\n",
        "      # run model on yt video\n",
        "    # else\n",
        "      # error message\n",
        "  # elif check if example video selected from example drop down\n",
        "    # run model on example video\n",
        "    # name video based on timing\n",
        "  # else\n",
        "    # error message about no video input"
      ],
      "metadata": {
        "id": "OjV3zo0hbeJO"
      },
      "execution_count": null,
      "outputs": []
    }
  ]
}