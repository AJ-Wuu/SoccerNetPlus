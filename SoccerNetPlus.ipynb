{
  "nbformat": 4,
  "nbformat_minor": 0,
  "metadata": {
    "colab": {
      "provenance": [],
      "collapsed_sections": [
        "ppdpJ8g8KRL4",
        "2HdVHVYWHFDd",
        "Fx9pMFlcFrG8",
        "bXCbBDGcIuyI"
      ]
    },
    "kernelspec": {
      "name": "python3",
      "display_name": "Python 3"
    },
    "language_info": {
      "name": "python"
    },
    "gpuClass": "standard"
  },
  "cells": [
    {
      "cell_type": "markdown",
      "source": [
        "# SoccerNetPlus\n",
        "by AiJing Wu, Michael Vanden Heuvel"
      ],
      "metadata": {
        "id": "shRNOY2ZEB3V"
      }
    },
    {
      "cell_type": "markdown",
      "source": [
        "## Environment settings:\n",
        "1. Create a directory/folder named \"SoccerNetPlus\" and put everything in it\n",
        "2. Runtime -> Change runtime type -> GPU\n",
        "3. Mount the drive to colab (with the next code snippet)"
      ],
      "metadata": {
        "id": "ppdpJ8g8KRL4"
      }
    },
    {
      "cell_type": "code",
      "source": [
        "# interact with drive files\n",
        "from google.colab import drive\n",
        "drive.mount('/content/gdrive')"
      ],
      "metadata": {
        "id": "rHCyGHbFKUWt",
        "colab": {
          "base_uri": "https://localhost:8080/"
        },
        "outputId": "d9c5e664-6ee4-4d0a-e090-04792437f17d"
      },
      "execution_count": 4,
      "outputs": [
        {
          "output_type": "stream",
          "name": "stdout",
          "text": [
            "Drive already mounted at /content/gdrive; to attempt to forcibly remount, call drive.mount(\"/content/gdrive\", force_remount=True).\n"
          ]
        }
      ]
    },
    {
      "cell_type": "code",
      "source": [
        "# Important variables\n",
        "max_allowed_video_length = 10\n",
        "parent_dir = '/content/gdrive/My Drive/SoccerNetPlus/'\n",
        "download_dir = '/content/gdrive/My Drive/SoccerNetPlus/downloaded_videos'\n",
        "output_dir = '/content/gdrive/My Drive/SoccerNetPlus/video_output'\n",
        "anvil_token_dir = \"/content/gdrive/MyDrive/SoccerNetPlus/anvil_key.txt\""
      ],
      "metadata": {
        "id": "cp8dMKrAiV0W"
      },
      "execution_count": 5,
      "outputs": []
    },
    {
      "cell_type": "code",
      "source": [
        "%cd $parent_dir"
      ],
      "metadata": {
        "id": "lcv6fYK7KN1X",
        "colab": {
          "base_uri": "https://localhost:8080/"
        },
        "outputId": "68f8ee83-9e5d-40b6-8c25-f7c347104ba1"
      },
      "execution_count": 6,
      "outputs": [
        {
          "output_type": "stream",
          "name": "stdout",
          "text": [
            "/content/gdrive/MyDrive/Classes/Year 5/SoccerNetPlus\n"
          ]
        }
      ]
    },
    {
      "cell_type": "markdown",
      "source": [
        "## Imports"
      ],
      "metadata": {
        "id": "2HdVHVYWHFDd"
      }
    },
    {
      "cell_type": "code",
      "source": [
        "# download all dependencies\n",
        "!pip install -r dependency-requirements.txt\n",
        "!pip install anvil-uplink\n",
        "!pip install youtube_dl"
      ],
      "metadata": {
        "id": "i7z8mOQ3NnV9",
        "colab": {
          "base_uri": "https://localhost:8080/",
          "height": 994
        },
        "outputId": "911b70d6-4f7f-4963-ffa0-3a50e3e7317e"
      },
      "execution_count": 7,
      "outputs": [
        {
          "output_type": "stream",
          "name": "stdout",
          "text": [
            "Looking in indexes: https://pypi.org/simple, https://us-python.pkg.dev/colab-wheels/public/simple/\n",
            "Collecting tensorflow-gpu==2.4.2\n",
            "  Downloading tensorflow_gpu-2.4.2-cp38-cp38-manylinux2010_x86_64.whl (394.5 MB)\n",
            "\u001b[K     |████████████████████████████████| 394.5 MB 1.9 kB/s \n",
            "\u001b[?25hRequirement already satisfied: numpy in /usr/local/lib/python3.8/dist-packages (from -r dependency-requirements.txt (line 2)) (1.21.6)\n",
            "\u001b[31mERROR: Could not find a version that satisfies the requirement opencv-python==4.1.1.26 (from versions: 3.4.0.14, 3.4.8.29, 3.4.9.31, 3.4.9.33, 3.4.10.35, 3.4.10.37, 3.4.11.39, 3.4.11.41, 3.4.11.43, 3.4.11.45, 3.4.13.47, 3.4.14.51, 3.4.14.53, 3.4.15.55, 3.4.16.57, 3.4.16.59, 3.4.17.61, 3.4.17.63, 3.4.18.65, 4.1.2.30, 4.2.0.32, 4.2.0.34, 4.3.0.36, 4.3.0.38, 4.4.0.40, 4.4.0.42, 4.4.0.44, 4.4.0.46, 4.5.1.48, 4.5.2.52, 4.5.2.54, 4.5.3.56, 4.5.4.58, 4.5.4.60, 4.5.5.62, 4.5.5.64, 4.6.0.66)\u001b[0m\n",
            "\u001b[31mERROR: No matching distribution found for opencv-python==4.1.1.26\u001b[0m\n",
            "Looking in indexes: https://pypi.org/simple, https://us-python.pkg.dev/colab-wheels/public/simple/\n",
            "Collecting anvil-uplink\n",
            "  Downloading anvil_uplink-0.4.1-py2.py3-none-any.whl (87 kB)\n",
            "\u001b[K     |████████████████████████████████| 87 kB 6.3 MB/s \n",
            "\u001b[?25hCollecting argparse\n",
            "  Downloading argparse-1.4.0-py2.py3-none-any.whl (23 kB)\n",
            "Requirement already satisfied: future in /usr/local/lib/python3.8/dist-packages (from anvil-uplink) (0.16.0)\n",
            "Collecting ws4py\n",
            "  Downloading ws4py-0.5.1.tar.gz (51 kB)\n",
            "\u001b[K     |████████████████████████████████| 51 kB 230 kB/s \n",
            "\u001b[?25hRequirement already satisfied: six in /usr/local/lib/python3.8/dist-packages (from anvil-uplink) (1.15.0)\n",
            "Building wheels for collected packages: ws4py\n",
            "  Building wheel for ws4py (setup.py) ... \u001b[?25l\u001b[?25hdone\n",
            "  Created wheel for ws4py: filename=ws4py-0.5.1-py3-none-any.whl size=45229 sha256=5ed883b97e75e24d8bd98981ae8c4bb9abd652766bc257b45fa28a166463b2ef\n",
            "  Stored in directory: /root/.cache/pip/wheels/ea/f9/a1/34e2943cce3cf7daca304bfc35e91280694ced9194a487ce2f\n",
            "Successfully built ws4py\n",
            "Installing collected packages: ws4py, argparse, anvil-uplink\n",
            "Successfully installed anvil-uplink-0.4.1 argparse-1.4.0 ws4py-0.5.1\n"
          ]
        },
        {
          "output_type": "display_data",
          "data": {
            "application/vnd.colab-display-data+json": {
              "pip_warning": {
                "packages": [
                  "argparse",
                  "google"
                ]
              }
            }
          },
          "metadata": {}
        },
        {
          "output_type": "stream",
          "name": "stdout",
          "text": [
            "Looking in indexes: https://pypi.org/simple, https://us-python.pkg.dev/colab-wheels/public/simple/\n",
            "Collecting youtube_dl\n",
            "  Downloading youtube_dl-2021.12.17-py2.py3-none-any.whl (1.9 MB)\n",
            "\u001b[K     |████████████████████████████████| 1.9 MB 23.4 MB/s \n",
            "\u001b[?25hInstalling collected packages: youtube-dl\n",
            "Successfully installed youtube-dl-2021.12.17\n"
          ]
        }
      ]
    },
    {
      "cell_type": "code",
      "source": [
        "# import all libraries\n",
        "from IPython.display import YouTubeVideo, display\n",
        "import requests\n",
        "import os, subprocess\n",
        "import cv2\n",
        "import urllib.parse as urlparse\n",
        "import datetime"
      ],
      "metadata": {
        "id": "Nh6b5Vc7KYJp"
      },
      "execution_count": 8,
      "outputs": []
    },
    {
      "cell_type": "markdown",
      "source": [
        "### Anvil Setup"
      ],
      "metadata": {
        "id": "Fx9pMFlcFrG8"
      }
    },
    {
      "cell_type": "code",
      "source": [
        "# link with Anvil frontend\n",
        "import anvil.server\n",
        "with open(anvil_token_dir, \"r\") as f:\n",
        "  anvil.server.connect(f.read())"
      ],
      "metadata": {
        "id": "oXZVtfADFthN",
        "colab": {
          "base_uri": "https://localhost:8080/"
        },
        "outputId": "9b8823b7-7dbb-454d-8591-3c868ede9c3a"
      },
      "execution_count": 9,
      "outputs": [
        {
          "output_type": "stream",
          "name": "stdout",
          "text": [
            "Connecting to wss://anvil.works/uplink\n",
            "Anvil websocket open\n",
            "Connected to \"Default environment\" as SERVER\n"
          ]
        }
      ]
    },
    {
      "cell_type": "markdown",
      "source": [
        "## Model Calls"
      ],
      "metadata": {
        "id": "EG9qvZfZKy4-"
      }
    },
    {
      "cell_type": "markdown",
      "source": [
        "### Detection and 2D Birdeye Transform\n",
        "with Yolov3 & OpenCV, all running in SoccerNetPlus/yolov3_opencv"
      ],
      "metadata": {
        "id": "U23FXkq70JRL"
      }
    },
    {
      "cell_type": "code",
      "source": [
        "@anvil.server.callable\n",
        "def detection_transformation(input_video_filename):\n",
        "    os.chdir(os.path.join(parent_dir, \"yolov3_opencv\"))\n",
        "\n",
        "    input_path = os.path.join(download_dir, input_video_filename)\n",
        "    # print(input_path)\n",
        "\n",
        "    output_path_detection = os.path.join(output_dir, \"detection-\"+input_video_filename)\n",
        "    output_path_bird = os.path.join(output_dir, \"birds-eye-\"+input_video_filename)\n",
        "    # print(output_path_detection)\n",
        "    \n",
        "    # if not os.path.isfile(output_path_detection) and not os.path.isfile(output_path_bird):\n",
        "\n",
        "    # Command: birdeye_view.py path-to-input-video path-to-output-video-detection-part path-to-output-video-birdeye-part\n",
        "    # subprocess.call(\"python birdeye_view.py ../video_input/test-video.mp4 ../video_output/detection.mp4 ../video_output/birdeye.mp4\", shell=True)\n",
        "    print()\n",
        "    subprocess.call(f\"python birdeye_view.py {input_path} {output_path_bird} {output_path_detection}\", shell=True)\n",
        "    os.chdir(parent_dir)\n",
        "    return output_path_detection"
      ],
      "metadata": {
        "id": "E7xQw04P0eck"
      },
      "execution_count": 10,
      "outputs": []
    },
    {
      "cell_type": "code",
      "source": [
        "# detection_transformation(\"test-video-Clip 2.mp4\")"
      ],
      "metadata": {
        "id": "v4dSAPCZ8y27"
      },
      "execution_count": 24,
      "outputs": []
    },
    {
      "cell_type": "markdown",
      "source": [
        "### Tracking and Statistics Display\n",
        "with Yolov3 & DeepSort, all running in SoccerNetPlus/yolov3_deepsort"
      ],
      "metadata": {
        "id": "ebH4L1lb0fBm"
      }
    },
    {
      "cell_type": "code",
      "source": [
        "@anvil.server.callable\n",
        "def tracking_statistics(input_video_filename):\n",
        "    os.chdir(os.path.join(parent_dir, \"yolov3_deepsort\"))\n",
        "    \n",
        "    input_path = os.path.join(download_dir, input_video_filename)\n",
        "    output_path_tracking = os.path.join(output_dir, \"tracking-\"+input_video_filename)\n",
        "\n",
        "    # if not os.path.isfile(output_path_detection):\n",
        "\n",
        "    subprocess.call(\"python load_weights.py\", shell=True)\n",
        "\n",
        "    # Command: object_tracker.py --video path-to-input-video --output path-to-output-video\n",
        "    subprocess.call(f\"python object_tracker.py --video {input_path} --output {output_path_tracking}\", shell=True)\n",
        "    os.chdir(parent_dir)\n",
        "    return output_path_tracking"
      ],
      "metadata": {
        "id": "ijWAmdMz0j4y"
      },
      "execution_count": 12,
      "outputs": []
    },
    {
      "cell_type": "code",
      "source": [
        "# tracking_statistics(\"2022-12-04_01.54.00_3loq22TxSc\")"
      ],
      "metadata": {
        "id": "TBsIlH-LqvaY"
      },
      "execution_count": 13,
      "outputs": []
    },
    {
      "cell_type": "markdown",
      "source": [
        "## UI Code"
      ],
      "metadata": {
        "id": "Oa0SPvAVYHeB"
      }
    },
    {
      "cell_type": "markdown",
      "source": [
        "### Populate Example Video Dropdown"
      ],
      "metadata": {
        "id": "fWI2_A_QK4xj"
      }
    },
    {
      "cell_type": "code",
      "source": [
        "@anvil.server.callable\n",
        "def populate_example_video_dropdown(clip_duration=max_allowed_video_length):\n",
        "  global video_input\n",
        "  video_input = {}\n",
        "  dir = os.path.join(parent_dir, \"video_input\")\n",
        "  videos = [x for x in os.listdir(dir) if x.endswith(\".mp4\")]\n",
        "  video_durations = []\n",
        "  for video in videos:\n",
        "    video = os.path.join(dir,video)\n",
        "    vidcapture = cv2.VideoCapture(video)\n",
        "    fps = vidcapture.get(cv2.CAP_PROP_FPS)\n",
        "    totalNoFrames = vidcapture.get(cv2.CAP_PROP_FRAME_COUNT)\n",
        "    video_durations.append(int(totalNoFrames / fps))\n",
        "\n",
        "  for i, v in enumerate(zip(videos,video_durations)):\n",
        "    video, duration = v\n",
        "    # print(f\"Duration: {duration}\")\n",
        "    # print(range(0,clip_duration,duration))\n",
        "    # print(list(range(0,clip_duration,duration)))\n",
        "    for j,s in enumerate(range(0,duration,clip_duration)):\n",
        "      # print(f\"Clip {((i+1)*(j+1))}, dur: {duration}\")\n",
        "      video_input[f\"Clip {((i+1)*(j+1))}\"] = {\"video_name\": video, \"path\": os.path.join(dir, video), \"start\":s, \"clip_duration\": min(clip_duration,duration-clip_duration*(j))}\n",
        "  # print(duration)\n",
        "  # print(video_input)\n",
        "  return list(video_input.keys())\n",
        "  \n",
        "# populate_example_video_dropdown()\n",
        "# video_input"
      ],
      "metadata": {
        "id": "_FnRXaCvYHjy"
      },
      "execution_count": 14,
      "outputs": []
    },
    {
      "cell_type": "markdown",
      "source": [
        "### Get image from video"
      ],
      "metadata": {
        "id": "ZbjmTMq6rsl5"
      }
    },
    {
      "cell_type": "code",
      "source": [
        "def get_screenshot(video_filename, screenshot_frame_num=10):\n",
        "  vidcap = cv2.VideoCapture(video_filename)\n",
        "  success,image = vidcap.read()\n",
        "  count = 0\n",
        "  while success and count < screenshot_frame_num:\n",
        "    success,image = vidcap.read()\n",
        "    count += 1  \n",
        "\n",
        "  return image\n",
        "\n",
        "# # import cv2\n",
        "# vidcap = cv2.VideoCapture('big_buck_bunny_720p_5mb.mp4')\n",
        "# success,image = vidcap.read()\n",
        "# count = 0\n",
        "# while success:\n",
        "#   cv2.imwrite(\"frame%d.jpg\" % count, image)     # save frame as JPEG file      \n",
        "#   success,image = vidcap.read()\n",
        "#   print('Read a new frame: ', success)\n",
        "#   count += 1\n",
        "\n",
        "print(type(get_screenshot(\"/content/gdrive/My Drive/SoccerNetPlus/downloaded_videos/test-video-Clip 2.mp4\")))"
      ],
      "metadata": {
        "colab": {
          "base_uri": "https://localhost:8080/"
        },
        "id": "cSktUKiMrwQg",
        "outputId": "bfd623f8-e990-479b-8608-9f47aad911ea"
      },
      "execution_count": 15,
      "outputs": [
        {
          "output_type": "stream",
          "name": "stdout",
          "text": [
            "<class 'numpy.ndarray'>\n"
          ]
        }
      ]
    },
    {
      "cell_type": "markdown",
      "source": [
        "## YouTube Helper Functions"
      ],
      "metadata": {
        "id": "bXCbBDGcIuyI"
      }
    },
    {
      "cell_type": "code",
      "source": [
        "@anvil.server.callable\n",
        "def get_video_id(value):\n",
        "    \"\"\"\n",
        "    Examples:\n",
        "    - http://youtu.be/Ns8NvPPHX5Y\n",
        "    - http://www.youtube.com/watch?v=Ns8NvPPHX5Y&feature=feedu\n",
        "    - http://www.youtube.com/embed/Ns8NvPPHX5Y\n",
        "    - http://www.youtube.com/v/Ns8NvPPHX5Y?version=3&amp;hl=en_US\n",
        "    \"\"\"\n",
        "    query = urlparse.urlparse(value)\n",
        "    if query.hostname == 'youtu.be':\n",
        "        return query.path[1:]\n",
        "    if query.hostname in ('www.youtube.com', 'youtube.com'):\n",
        "        if query.path == '/watch':\n",
        "            p = urlparse.parse_qs(query.query)\n",
        "            return p['v'][0]\n",
        "        if query.path[:7] == '/embed/':\n",
        "            return query.path.split('/')[2]\n",
        "        if query.path[:3] == '/v/':\n",
        "            return query.path.split('/')[2]\n",
        "    # fail?\n",
        "    return None"
      ],
      "metadata": {
        "id": "zec3UBF8IzKQ"
      },
      "execution_count": 16,
      "outputs": []
    },
    {
      "cell_type": "code",
      "source": [
        "# Source: https://stackoverflow.com/questions/63325908/how-do-i-check-if-a-youtube-video-url-is-valid-or-not-in-python\n",
        "@anvil.server.callable\n",
        "def check_video_url(video_id):\n",
        "    checker_url = \"https://www.youtube.com/oembed?url=http://www.youtube.com/watch?v=\"\n",
        "    video_url = checker_url + video_id\n",
        "\n",
        "    request = requests.get(video_url)\n",
        "\n",
        "    return request.status_code == 200\n",
        "# check_video_url(\"SB-qEYVdvXA\")"
      ],
      "metadata": {
        "id": "K8ACvnLYIzH1"
      },
      "execution_count": 17,
      "outputs": []
    },
    {
      "cell_type": "code",
      "source": [
        "# Source: https://stackoverflow.com/questions/63325908/how-do-i-check-if-a-youtube-video-url-is-valid-or-not-in-python\n",
        "@anvil.server.callable\n",
        "def get_video_thumbnail(video_id):\n",
        "    checker_url = \"https://www.youtube.com/oembed?url=http://www.youtube.com/watch?v=\"\n",
        "    video_url = checker_url + video_id\n",
        "\n",
        "    request = requests.get(video_url)\n",
        "\n",
        "    return request.json()[\"thumbnail_url\"]\n",
        "# check_video_url(\"SB-qEYVdvXA\")"
      ],
      "metadata": {
        "id": "jWVBNL-zIzNP"
      },
      "execution_count": 18,
      "outputs": []
    },
    {
      "cell_type": "code",
      "source": [
        "def get_video_duration(video_id):\n",
        "  cap = cv2.VideoCapture(\"./video.mp4\") # Issue is getting the video to check its duration\n",
        "  fps = cap.get(cv2.CAP_PROP_FPS)      # OpenCV2 version 2 used \"CV_CAP_PROP_FPS\"\n",
        "  frame_count = int(cap.get(cv2.CAP_PROP_FRAME_COUNT))\n",
        "  duration = frame_count/fps\n",
        "  return duration"
      ],
      "metadata": {
        "id": "R-VzVdvCb7IP"
      },
      "execution_count": 19,
      "outputs": []
    },
    {
      "cell_type": "code",
      "source": [
        "def check_video_duration(video_id, start_time):\n",
        "  return start_time < get_video_duration(video_id)"
      ],
      "metadata": {
        "id": "8MB4GySmbWtw"
      },
      "execution_count": 20,
      "outputs": []
    },
    {
      "cell_type": "code",
      "source": [
        "@anvil.server.callable\n",
        "def download_youtube_clip(video_id, start_time, duration=max_allowed_video_length):\n",
        "  video_url = \"https://www.youtube.com/watch?v=\" + video_id\n",
        "\n",
        "  t = datetime.timezone(datetime.timedelta(hours=-5)) # CT Timezone offset -5 from UTC (varies based on DST)\n",
        "  current_time = datetime.datetime.now(tz=t).strftime(\"%Y-%m-%d_%H.%M.%S\") # Current time and video url provides a unique filename\n",
        "  \n",
        "  output_video_filename = current_time + video_id + \".mp4\"\n",
        "\n",
        "  command = f\"ffmpeg $(youtube-dl -g '{video_url}' | sed 's/.*/-ss {start_time} -i &/') -t {duration} -c copy {output_video_filename}\"\n",
        "  \n",
        "  os.chdir(download_dir)\n",
        "  r_code = os.system(command)\n",
        "  os.chdir(parent_dir)\n",
        "  \n",
        "  return (r_code == 0, output_video_filename)"
      ],
      "metadata": {
        "id": "-2rHijQ7IzPJ"
      },
      "execution_count": 21,
      "outputs": []
    },
    {
      "cell_type": "markdown",
      "source": [
        "## Example Video Helper Functions\n"
      ],
      "metadata": {
        "id": "4Re4mrdgqdVO"
      }
    },
    {
      "cell_type": "code",
      "source": [
        "@anvil.server.callable\n",
        "def clip_example_video(clip_key):\n",
        "  \"\"\"\n",
        "  References:\n",
        "  https://superuser.com/questions/138331/using-ffmpeg-to-cut-up-video\n",
        "  https://stackoverflow.com/questions/18444194/cutting-the-videos-based-on-start-and-end-time-using-ffmpeg\n",
        "  \"\"\"\n",
        "  filename = '.'.join(video_input[clip_key][\"video_name\"].split(\".\")[:-1])\n",
        "  extension = video_input[clip_key][\"video_name\"].split(\".\")[-1]\n",
        "  output_filename = f\"{filename}-{clip_key}.{extension}\"\n",
        "  output = os.path.join(download_dir, output_filename)\n",
        "\n",
        "  if os.path.isfile(output):\n",
        "    print(\"Skipped because file already exists!\")\n",
        "    return (True, output_filename)\n",
        "\n",
        "  # command = f\"ffmpeg -i '{video_input[clip_key]['path']}' -ss {video_input[clip_key]['start']} -to {video_input[clip_key]['start']+video_input[clip_key]['clip_duration']} -c copy '{output}'\"\n",
        "  # command = f\"ffmpeg -ss {video_input[clip_key]['start']} -i '{video_input[clip_key]['path']}' -c copy '{output}' -t {video_input[clip_key]['clip_duration']}\"\n",
        "  \n",
        "  # Ordering for ffmpeg apparently matters a lot. There is probably a more quicker way for this command to run, but this is what I was able to find so that\n",
        "  # the videos were split correctly. Issues are likely related to .mp4 format and keyframes?\n",
        "  command = f\"ffmpeg -ss {video_input[clip_key]['start']} -i '{video_input[clip_key]['path']}' -to {video_input[clip_key]['clip_duration']} '{output}' \"\n",
        "\n",
        "  os.chdir(download_dir)\n",
        "  r_code = os.system(command)\n",
        "  os.chdir(parent_dir)\n",
        "  \n",
        "  return (r_code == 0, output_filename)\n",
        "\n",
        "populate_example_video_dropdown()\n",
        "clip_example_video(\"Clip 1\")\n"
      ],
      "metadata": {
        "id": "eL-9hreJqk1z",
        "colab": {
          "base_uri": "https://localhost:8080/"
        },
        "outputId": "773fd094-edc3-4929-dcb7-f1fd84652f3f"
      },
      "execution_count": 22,
      "outputs": [
        {
          "output_type": "stream",
          "name": "stdout",
          "text": [
            "Skipped because file already exists!\n"
          ]
        },
        {
          "output_type": "execute_result",
          "data": {
            "text/plain": [
              "(True, 'test-video-Clip 1.mp4')"
            ]
          },
          "metadata": {},
          "execution_count": 22
        }
      ]
    },
    {
      "cell_type": "code",
      "source": [
        "def clip_all_example_videos():\n",
        "  for key in video_input:\n",
        "    print(f\"{key}: start: {video_input[key]['start']} Duration:{video_input[key]['clip_duration']}\")\n",
        "    print(clip_example_video(key))\n",
        "    \n",
        "clip_all_example_videos()"
      ],
      "metadata": {
        "colab": {
          "base_uri": "https://localhost:8080/"
        },
        "id": "LWsPKrPMzB6h",
        "outputId": "4c277fc0-ee69-4e43-a859-acb9ec4dff8d"
      },
      "execution_count": 23,
      "outputs": [
        {
          "output_type": "stream",
          "name": "stdout",
          "text": [
            "Clip 1: start: 0 Duration:10\n",
            "Skipped because file already exists!\n",
            "(True, 'test-video-Clip 1.mp4')\n",
            "Clip 2: start: 10 Duration:10\n",
            "Skipped because file already exists!\n",
            "(True, 'test-video-Clip 2.mp4')\n",
            "Clip 3: start: 20 Duration:10\n",
            "Skipped because file already exists!\n",
            "(True, 'test-video-Clip 3.mp4')\n",
            "Clip 4: start: 30 Duration:10\n",
            "Skipped because file already exists!\n",
            "(True, 'test-video-Clip 4.mp4')\n",
            "Clip 5: start: 40 Duration:10\n",
            "Skipped because file already exists!\n",
            "(True, 'test-video-Clip 5.mp4')\n",
            "Clip 6: start: 50 Duration:10\n",
            "Skipped because file already exists!\n",
            "(True, 'test-video-Clip 6.mp4')\n",
            "Clip 7: start: 60 Duration:10\n",
            "Skipped because file already exists!\n",
            "(True, 'test-video-Clip 7.mp4')\n",
            "Clip 8: start: 70 Duration:10\n",
            "Skipped because file already exists!\n",
            "(True, 'test-video-Clip 8.mp4')\n",
            "Clip 9: start: 80 Duration:10\n",
            "Skipped because file already exists!\n",
            "(True, 'test-video-Clip 9.mp4')\n",
            "Clip 10: start: 90 Duration:10\n",
            "Skipped because file already exists!\n",
            "(True, 'test-video-Clip 10.mp4')\n",
            "Clip 11: start: 100 Duration:10\n",
            "Skipped because file already exists!\n",
            "(True, 'test-video-Clip 11.mp4')\n",
            "Clip 12: start: 110 Duration:10\n",
            "Skipped because file already exists!\n",
            "(True, 'test-video-Clip 12.mp4')\n"
          ]
        }
      ]
    },
    {
      "cell_type": "markdown",
      "source": [
        "# Anvil Wait"
      ],
      "metadata": {
        "id": "QaJzR2VgLA_s"
      }
    },
    {
      "cell_type": "code",
      "source": [
        "anvil.server.wait_forever()"
      ],
      "metadata": {
        "id": "mrqHwfeUyC4z"
      },
      "execution_count": null,
      "outputs": []
    }
  ]
}